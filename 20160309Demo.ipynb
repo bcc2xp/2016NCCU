{
 "cells": [
  {
   "cell_type": "code",
   "execution_count": 1,
   "metadata": {
    "collapsed": false
   },
   "outputs": [
    {
     "name": "stdout",
     "output_type": "stream",
     "text": [
      "3.55\n",
      "行政院環境保護署\n"
     ]
    },
    {
     "name": "stderr",
     "output_type": "stream",
     "text": [
      "C:\\Anaconda2\\lib\\site-packages\\bs4\\__init__.py:166: UserWarning: No parser was explicitly specified, so I'm using the best available HTML parser for this system (\"lxml\"). This usually isn't a problem, but if you run this code on another system, or in a different virtual environment, it may use a different parser and behave differently.\n",
      "\n",
      "To get rid of this warning, change this:\n",
      "\n",
      " BeautifulSoup([your markup])\n",
      "\n",
      "to this:\n",
      "\n",
      " BeautifulSoup([your markup], \"lxml\")\n",
      "\n",
      "  markup_type=markup_type))\n"
     ]
    }
   ],
   "source": [
    "from bs4 import BeautifulSoup as bs\n",
    "with open('gov/51787884.txt','r') as f:\n",
    "    soup = bs(f.read())\n",
    "    for tr in soup.select('tr'):\n",
    "        th = tr.select('th')\n",
    "        if len(th) > 0 :\n",
    "            if th[0].text.encode('utf-8').strip() == '機關代碼':\n",
    "                td = tr.select('td')[0].text.strip()\n",
    "                print td\n",
    "            if th[0].text.encode('utf-8').strip() == '機關名稱':\n",
    "                td = tr.select('td')[0].text.strip()\n",
    "                print td"
   ]
  },
  {
   "cell_type": "code",
   "execution_count": 2,
   "metadata": {
    "collapsed": false
   },
   "outputs": [],
   "source": [
    "from bs4 import BeautifulSoup as bs\n",
    "dic = {'機關代碼': '', '機關名稱': '', '單位名稱': '' , '機關地址': '', '聯絡電話': ''}\n",
    "with open('gov/51787884.txt','r') as f:\n",
    "    soup = bs(f.read())\n",
    "    for tr in soup.select('tr'):\n",
    "        th = tr.select('th')\n",
    "        if len(th) > 0 :\n",
    "            th_value = th[0].text.encode('utf-8').strip()\n",
    "            if th_value in dic:\n",
    "                td = tr.select('td')[0].text.strip()\n",
    "                dic[th_value] = td"
   ]
  },
  {
   "cell_type": "code",
   "execution_count": 4,
   "metadata": {
    "collapsed": false
   },
   "outputs": [
    {
     "name": "stdout",
     "output_type": "stream",
     "text": [
      "單位名稱 廢棄物管理處\n",
      "機關名稱 行政院環境保護署\n",
      "機關代碼 3.55\n",
      "聯絡電話 (02)23117722 分機 2624  2481\n",
      "機關地址 100臺北市中正區中華路一段83號\n"
     ]
    }
   ],
   "source": [
    "for key in dic:\n",
    "    print key, dic[key]"
   ]
  },
  {
   "cell_type": "code",
   "execution_count": 5,
   "metadata": {
    "collapsed": true
   },
   "outputs": [],
   "source": [
    "dic = {'標的分類': ''}\n",
    "with open('gov/51787884.txt','r') as f:\n",
    "    soup = bs(f.read())\n",
    "    for tr in soup.select('tr'):\n",
    "        th = tr.select('th')\n",
    "        if len(th) > 0 :\n",
    "            th_value = th[0].text.encode('utf-8').strip()\n",
    "            if th_value in dic:\n",
    "                td = tr.select('td')[0].text.strip()\n",
    "                dic[th_value] = td"
   ]
  },
  {
   "cell_type": "code",
   "execution_count": 14,
   "metadata": {
    "collapsed": false
   },
   "outputs": [
    {
     "name": "stdout",
     "output_type": "stream",
     "text": [
      "標的分類 u'<\\u52de\\u52d9\\u985e>    \\r\\n                            94\\r\\n                            \\u6c61\\u6c34\\u53ca\\u5783\\u573e\\u8655\\u7406\\u3001\\u516c\\u5171\\u885b\\u751f\\u53ca\\u5176\\u4ed6\\u74b0\\u4fdd\\u670d\\u52d9'\n"
     ]
    }
   ],
   "source": [
    "for ele in dic:\n",
    "    print ele, repr(dic[ele])"
   ]
  },
  {
   "cell_type": "code",
   "execution_count": 16,
   "metadata": {
    "collapsed": false
   },
   "outputs": [
    {
     "name": "stdout",
     "output_type": "stream",
     "text": [
      "\t\t \n",
      "\n",
      "123\n",
      "324\t\n",
      "'\\t\\t \\n\\n123\\n324\\t'\n"
     ]
    }
   ],
   "source": [
    "a = '\\t\\t \\n\\n123\\n324\\t'\n",
    "print a\n",
    "print repr(a)"
   ]
  },
  {
   "cell_type": "code",
   "execution_count": 12,
   "metadata": {
    "collapsed": false
   },
   "outputs": [
    {
     "name": "stdout",
     "output_type": "stream",
     "text": [
      "標的分類 <勞務類> 94 污水及垃圾處理、公共衛生及其他環保服務\n"
     ]
    }
   ],
   "source": [
    "for ele in dic:\n",
    "    print ele, ' '.join(dic[ele].split())"
   ]
  },
  {
   "cell_type": "code",
   "execution_count": 10,
   "metadata": {
    "collapsed": false
   },
   "outputs": [
    {
     "name": "stdout",
     "output_type": "stream",
     "text": [
      "         dddddd                  aaaaaaaaa                   bbbbbb   \n",
      "['dddddd', 'aaaaaaaaa', 'bbbbbb']\n",
      "dddddd|aaaaaaaaa|bbbbbb\n",
      "ddddddaaaaaaaaabbbbbb\n"
     ]
    }
   ],
   "source": [
    "a = '         dddddd                  aaaaaaaaa                   bbbbbb   '\n",
    "print a\n",
    "print a.split()\n",
    "print '|'.join(a.split())\n",
    "print ''.join(a.split())\n"
   ]
  },
  {
   "cell_type": "code",
   "execution_count": 19,
   "metadata": {
    "collapsed": false
   },
   "outputs": [
    {
     "name": "stdout",
     "output_type": "stream",
     "text": [
      "2016-03-09\n",
      "2016-03-09 19:08\n",
      "<type 'str'>\n"
     ]
    }
   ],
   "source": [
    "from datetime import date,datetime \n",
    "currenttime = datetime.now() \n",
    "print currenttime.strftime(\"%Y-%m-%d\") \n",
    "print currenttime.strftime(\"%Y-%m-%d %H:%M\") \n",
    "print type(currenttime.strftime(\"%Y-%m-%d %H:%M\") )"
   ]
  },
  {
   "cell_type": "code",
   "execution_count": 21,
   "metadata": {
    "collapsed": false
   },
   "outputs": [
    {
     "name": "stdout",
     "output_type": "stream",
     "text": [
      "2014-05-03 14:00:00\n",
      "676 days, 5:08:38.958000\n"
     ]
    }
   ],
   "source": [
    "a = '2014-05-03 14:00' \n",
    "print datetime.strptime(a, \"%Y-%m-%d %H:%M\")\n",
    "\n",
    "print currenttime - datetime.strptime(a, \"%Y-%m-%d %H:%M\")"
   ]
  },
  {
   "cell_type": "code",
   "execution_count": 23,
   "metadata": {
    "collapsed": false
   },
   "outputs": [
    {
     "name": "stdout",
     "output_type": "stream",
     "text": [
      "2016-03-09 19:08:38.958000\n",
      "2016-03-08 19:08:38.958000\n",
      "2016/03/08\n",
      "2016/03/07\n",
      "2016/03/06\n",
      "2016/03/05\n",
      "2016/03/04\n",
      "2016/03/03\n",
      "2016/03/02\n",
      "2016/03/01\n",
      "2016/02/29\n",
      "2016/02/28\n"
     ]
    }
   ],
   "source": [
    "from datetime import timedelta\n",
    "print currenttime \n",
    "print currenttime - timedelta(days = 1)\n",
    "\n",
    "for i in xrange(1,11):\n",
    "    print (currenttime - timedelta(days = i)).strftime('%Y/%m/%d')\n"
   ]
  },
  {
   "cell_type": "code",
   "execution_count": 30,
   "metadata": {
    "collapsed": false
   },
   "outputs": [
    {
     "name": "stdout",
     "output_type": "stream",
     "text": [
      "['102', '12', '10 10:30']\n",
      "['102', '12/10 10:30']\n",
      "102\n",
      "2013\n",
      "2013/12/10 10:30\n"
     ]
    }
   ],
   "source": [
    "response_date = '102/12/10 10:30' \n",
    "print response_date.split('/') \n",
    "print response_date.split('/', 1) \n",
    "print response_date.split('/', 1)[0] \n",
    "print int(response_date.split('/', 1)[0] ) + 1911\n",
    "\n",
    "getyear = response_date.split('/', 1)\n",
    "print str(int(getyear[0] ) + 1911 ) + '/' + getyear[1]\n"
   ]
  },
  {
   "cell_type": "code",
   "execution_count": 35,
   "metadata": {
    "collapsed": false
   },
   "outputs": [
    {
     "name": "stdout",
     "output_type": "stream",
     "text": [
      "352,111\n",
      "['352', '111']\n",
      "352111\n",
      "352111\n"
     ]
    }
   ],
   "source": [
    "import re \n",
    "m = re.match( r\"\\$?(-?[0-9,]+)元\", '352,111元') \n",
    "print m.group(1)\n",
    "print m.group(1).split(',')\n",
    "print ''.join(m.group(1).split(','))\n",
    "print int(''.join(m.group(1).split(',')))\n",
    "#print ''.join(m.group(1).split(','))\n"
   ]
  },
  {
   "cell_type": "code",
   "execution_count": null,
   "metadata": {
    "collapsed": true
   },
   "outputs": [],
   "source": []
  }
 ],
 "metadata": {
  "kernelspec": {
   "display_name": "Python 2",
   "language": "python",
   "name": "python2"
  },
  "language_info": {
   "codemirror_mode": {
    "name": "ipython",
    "version": 2
   },
   "file_extension": ".py",
   "mimetype": "text/x-python",
   "name": "python",
   "nbconvert_exporter": "python",
   "pygments_lexer": "ipython2",
   "version": "2.7.11"
  }
 },
 "nbformat": 4,
 "nbformat_minor": 0
}
