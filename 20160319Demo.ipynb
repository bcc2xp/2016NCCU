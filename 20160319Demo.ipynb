{
 "cells": [
  {
   "cell_type": "code",
   "execution_count": 4,
   "metadata": {
    "collapsed": false
   },
   "outputs": [
    {
     "name": "stdout",
     "output_type": "stream",
     "text": [
      "[3, 5, 7, 9, 11]\n",
      "<type 'list'>\n"
     ]
    }
   ],
   "source": [
    "import numpy as np\n",
    "a = [1,2,3,4,5]\n",
    "b = [2,3,4,5,6]\n",
    "ary = []\n",
    "for i in range(0, len(a)):\n",
    "    ary.append(a[i] + b[i])\n",
    "print ary\n",
    "print type(ary)\n"
   ]
  },
  {
   "cell_type": "code",
   "execution_count": 5,
   "metadata": {
    "collapsed": false
   },
   "outputs": [
    {
     "name": "stdout",
     "output_type": "stream",
     "text": [
      "<type 'numpy.ndarray'>\n",
      "[0 1 2 3 4 5] 1 (6L,)\n"
     ]
    }
   ],
   "source": [
    "a = np.array([0,1,2,3,4,5])\n",
    "print type(a)\n",
    "print a, a.ndim, a.shape"
   ]
  },
  {
   "cell_type": "code",
   "execution_count": 10,
   "metadata": {
    "collapsed": false
   },
   "outputs": [
    {
     "name": "stdout",
     "output_type": "stream",
     "text": [
      "[ 2  4  6  8 10 12]\n",
      "[-2 -2 -2 -2 -2 -2]\n",
      "[ 0  3  8 15 24 35]\n",
      "[ 0.          0.33333333  0.5         0.6         0.66666667  0.71428571]\n"
     ]
    }
   ],
   "source": [
    "a = np.array([0,1,2,3,4,5])\n",
    "b = np.array([2,3,4,5,6,7])\n",
    "print a+b\n",
    "print a-b\n",
    "print a*b\n",
    "print a * 1.0 /b"
   ]
  },
  {
   "cell_type": "code",
   "execution_count": 11,
   "metadata": {
    "collapsed": false
   },
   "outputs": [
    {
     "name": "stdout",
     "output_type": "stream",
     "text": [
      "[[0 1]\n",
      " [2 3]\n",
      " [4 5]] 2 (3L, 2L)\n"
     ]
    }
   ],
   "source": [
    "a = np.array([0,1,2,3,4,5])\n",
    "b = a.reshape((3,2))\n",
    "print b, b.ndim, b.shape"
   ]
  },
  {
   "cell_type": "code",
   "execution_count": 16,
   "metadata": {
    "collapsed": false
   },
   "outputs": [
    {
     "name": "stdout",
     "output_type": "stream",
     "text": [
      "[[ 0  1]\n",
      " [77  3]\n",
      " [ 4  5]]\n",
      "77\n",
      "[[ 0  1]\n",
      " [77  3]\n",
      " [ 4  5]]\n",
      "[[ 0  1]\n",
      " [77  3]\n",
      " [ 4  5]]\n",
      "[ 0  1 77  3  4  5]\n"
     ]
    }
   ],
   "source": [
    "print b\n",
    "print b[1][0]\n",
    "#= 77\n",
    "b[1][0] = 77\n",
    "print b\n",
    "print b\n",
    "print a\n"
   ]
  },
  {
   "cell_type": "code",
   "execution_count": 18,
   "metadata": {
    "collapsed": false,
    "scrolled": true
   },
   "outputs": [
    {
     "name": "stdout",
     "output_type": "stream",
     "text": [
      "[[0 1]\n",
      " [2 3]\n",
      " [4 5]]\n",
      "[0 1 2 3 4 5]\n",
      "[[-99   1]\n",
      " [  2   3]\n",
      " [  4   5]]\n"
     ]
    }
   ],
   "source": [
    "a = np.array([0,1,2,3,4,5])\n",
    "c = a.reshape((3,2)).copy()\n",
    "print c\n",
    "c[0][0] = -99\n",
    "print a\n",
    "print c\n"
   ]
  },
  {
   "cell_type": "code",
   "execution_count": 19,
   "metadata": {
    "collapsed": false
   },
   "outputs": [
    {
     "name": "stdout",
     "output_type": "stream",
     "text": [
      "[ 0  2  4  6  8 10]\n",
      "[ 0  1  4  9 16 25]\n",
      "[1, 2, 3, 4, 5, 1, 2, 3, 4, 5]\n"
     ]
    },
    {
     "ename": "TypeError",
     "evalue": "unsupported operand type(s) for ** or pow(): 'list' and 'int'",
     "output_type": "error",
     "traceback": [
      "\u001b[1;31m---------------------------------------------------------------------------\u001b[0m",
      "\u001b[1;31mTypeError\u001b[0m                                 Traceback (most recent call last)",
      "\u001b[1;32m<ipython-input-19-93955c7357d8>\u001b[0m in \u001b[0;36m<module>\u001b[1;34m()\u001b[0m\n\u001b[0;32m      5\u001b[0m \u001b[0mb\u001b[0m \u001b[1;33m=\u001b[0m \u001b[1;33m[\u001b[0m\u001b[1;36m1\u001b[0m\u001b[1;33m,\u001b[0m\u001b[1;36m2\u001b[0m\u001b[1;33m,\u001b[0m\u001b[1;36m3\u001b[0m\u001b[1;33m,\u001b[0m\u001b[1;36m4\u001b[0m\u001b[1;33m,\u001b[0m\u001b[1;36m5\u001b[0m\u001b[1;33m]\u001b[0m\u001b[1;33m\u001b[0m\u001b[0m\n\u001b[0;32m      6\u001b[0m \u001b[1;32mprint\u001b[0m \u001b[0mb\u001b[0m \u001b[1;33m*\u001b[0m \u001b[1;36m2\u001b[0m\u001b[1;33m\u001b[0m\u001b[0m\n\u001b[1;32m----> 7\u001b[1;33m \u001b[1;32mprint\u001b[0m \u001b[0mb\u001b[0m \u001b[1;33m**\u001b[0m \u001b[1;36m2\u001b[0m\u001b[1;33m\u001b[0m\u001b[0m\n\u001b[0m",
      "\u001b[1;31mTypeError\u001b[0m: unsupported operand type(s) for ** or pow(): 'list' and 'int'"
     ]
    }
   ],
   "source": [
    "a = np.array([0,1,2,3,4,5])\n",
    "print a *2\n",
    "print a **2\n",
    "\n",
    "b = [1,2,3,4,5]\n",
    "print b * 2\n",
    "print b ** 2\n"
   ]
  },
  {
   "cell_type": "code",
   "execution_count": 29,
   "metadata": {
    "collapsed": false
   },
   "outputs": [
    {
     "name": "stdout",
     "output_type": "stream",
     "text": [
      "[2 3 4]\n",
      "[False False False False False  True]\n",
      "[5]\n",
      "[0 1 2 3 4 4]\n",
      "[0 1 2 3 4 4]\n",
      "[0 1 2 3 3 3]\n",
      "[1 1 2 3 3 3]\n"
     ]
    }
   ],
   "source": [
    "a = np.array([0,1,2,3,4,5])\n",
    "print a[np.array([2,3,4])] # filter value by position \n",
    "\n",
    "print a > 4\n",
    "print a[a>4] # filter value by logic \n",
    "a[a>4] = 4\n",
    "print a\n",
    "\n",
    "print a\n",
    "print a.clip(0,3)\n",
    "print a.clip(1,3)\n",
    "#help(a.clip)\n"
   ]
  },
  {
   "cell_type": "code",
   "execution_count": 30,
   "metadata": {
    "collapsed": false
   },
   "outputs": [
    {
     "name": "stdout",
     "output_type": "stream",
     "text": [
      "[  1.   2.  nan   3.   4.]\n",
      "[False False  True False False]\n",
      "[ 1.  2.  3.  4.]\n",
      "2.5\n"
     ]
    },
    {
     "name": "stderr",
     "output_type": "stream",
     "text": [
      "C:\\Anaconda2\\lib\\site-packages\\ipykernel\\__main__.py:4: DeprecationWarning: numpy boolean negative, the `-` operator, is deprecated, use the `~` operator or the logical_not function instead.\n",
      "C:\\Anaconda2\\lib\\site-packages\\ipykernel\\__main__.py:5: DeprecationWarning: numpy boolean negative, the `-` operator, is deprecated, use the `~` operator or the logical_not function instead.\n"
     ]
    }
   ],
   "source": [
    "c = np.array([1,2,np.NAN, 3, 4])\n",
    "print c\n",
    "print np.isnan(c)\n",
    "print c[-np.isnan(c)]\n",
    "print np.mean(c[-np.isnan(c)])"
   ]
  },
  {
   "cell_type": "code",
   "execution_count": 31,
   "metadata": {
    "collapsed": false
   },
   "outputs": [
    {
     "data": {
      "text/plain": [
       "array([1, 'string', set([1, 2, 3])], dtype=object)"
      ]
     },
     "execution_count": 31,
     "metadata": {},
     "output_type": "execute_result"
    }
   ],
   "source": [
    "np.array([1,\"string\"])\n",
    "np.array([1,\"string\", set([1,2,3])])\n"
   ]
  },
  {
   "cell_type": "code",
   "execution_count": null,
   "metadata": {
    "collapsed": true
   },
   "outputs": [],
   "source": []
  }
 ],
 "metadata": {
  "kernelspec": {
   "display_name": "Python 2",
   "language": "python",
   "name": "python2"
  },
  "language_info": {
   "codemirror_mode": {
    "name": "ipython",
    "version": 2
   },
   "file_extension": ".py",
   "mimetype": "text/x-python",
   "name": "python",
   "nbconvert_exporter": "python",
   "pygments_lexer": "ipython2",
   "version": "2.7.11"
  }
 },
 "nbformat": 4,
 "nbformat_minor": 0
}
