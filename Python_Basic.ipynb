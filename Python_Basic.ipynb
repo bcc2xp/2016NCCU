{
 "cells": [
  {
   "cell_type": "code",
   "execution_count": 1,
   "metadata": {
    "collapsed": false
   },
   "outputs": [
    {
     "name": "stdout",
     "output_type": "stream",
     "text": [
      "Hello World\n"
     ]
    }
   ],
   "source": [
    "#!/usr/bin/python\n",
    "import sys\n",
    "\n",
    "# This is a single line comment\n",
    "def main():\n",
    "    print 'Hello World'\n",
    "\n",
    "if __name__ == '__main__':\n",
    "    main()\n"
   ]
  },
  {
   "cell_type": "code",
   "execution_count": 2,
   "metadata": {
    "collapsed": false
   },
   "outputs": [
    {
     "name": "stdout",
     "output_type": "stream",
     "text": [
      "What is your name? \"David\"\n",
      "Nice to mee you! David\n"
     ]
    }
   ],
   "source": [
    "name = input(\"What is your name? \")\n",
    "if name == \"David\":\n",
    "    print (\"Nice to mee you! \" + name)\n",
    "else:\n",
    "    print (\"Your name again?\")\n"
   ]
  },
  {
   "cell_type": "code",
   "execution_count": 3,
   "metadata": {
    "collapsed": false
   },
   "outputs": [
    {
     "name": "stdout",
     "output_type": "stream",
     "text": [
      "What is your name? \"David\"\n",
      "Nice to mee you! David\n"
     ]
    }
   ],
   "source": [
    "name = input(\"What is your name? \")\n",
    "if name == \"David\":\n",
    "    print (\"Nice to mee you! {}\".format(name))\n",
    "else:\n",
    "    print (\"Your name again? Is it %s ?\" %(name))\n"
   ]
  },
  {
   "cell_type": "code",
   "execution_count": null,
   "metadata": {
    "collapsed": false
   },
   "outputs": [],
   "source": [
    "times = input(\"Repeat Times: \")\n",
    "print(\"Qoo \" * int(times))\n",
    "\n"
   ]
  },
  {
   "cell_type": "code",
   "execution_count": 17,
   "metadata": {
    "collapsed": false
   },
   "outputs": [
    {
     "name": "stdout",
     "output_type": "stream",
     "text": [
      "Dividend: 3\n",
      "Divisor: \"hello\"\n"
     ]
    },
    {
     "ename": "ValueError",
     "evalue": "could not convert string to float: hello",
     "output_type": "error",
     "traceback": [
      "\u001b[1;31m---------------------------------------------------------------------------\u001b[0m\n\u001b[1;31mValueError\u001b[0m                                Traceback (most recent call last)",
      "\u001b[1;32m<ipython-input-17-5497db6af413>\u001b[0m in \u001b[0;36m<module>\u001b[1;34m()\u001b[0m\n\u001b[0;32m      3\u001b[0m \u001b[1;33m\u001b[0m\u001b[0m\n\u001b[0;32m      4\u001b[0m \u001b[1;32mtry\u001b[0m\u001b[1;33m:\u001b[0m\u001b[1;33m\u001b[0m\u001b[0m\n\u001b[1;32m----> 5\u001b[1;33m     \u001b[1;32mprint\u001b[0m \u001b[0mfloat\u001b[0m\u001b[1;33m(\u001b[0m\u001b[0mdividend\u001b[0m\u001b[1;33m)\u001b[0m \u001b[1;33m/\u001b[0m \u001b[0mfloat\u001b[0m\u001b[1;33m(\u001b[0m\u001b[0mdivisor\u001b[0m\u001b[1;33m)\u001b[0m\u001b[1;33m\u001b[0m\u001b[0m\n\u001b[0m\u001b[0;32m      6\u001b[0m \u001b[1;32mexcept\u001b[0m \u001b[0mZeroDivisionError\u001b[0m \u001b[1;32mas\u001b[0m \u001b[0mdetail\u001b[0m\u001b[1;33m:\u001b[0m\u001b[1;33m\u001b[0m\u001b[0m\n\u001b[0;32m      7\u001b[0m     \u001b[1;32mprint\u001b[0m \u001b[1;34m\"ZeroDvisionError\"\u001b[0m\u001b[1;33m,\u001b[0m \u001b[0mdetail\u001b[0m\u001b[1;33m\u001b[0m\u001b[0m\n",
      "\u001b[1;31mValueError\u001b[0m: could not convert string to float: hello"
     ]
    }
   ],
   "source": [
    "dividend = input(\"Dividend: \")\n",
    "divisor = input(\"Divisor: \")\n",
    "\n",
    "try:\n",
    "    print float(dividend) / float(divisor)\n",
    "except ZeroDivisionError as detail:\n",
    "    print \"ZeroDvisionError\", detail"
   ]
  },
  {
   "cell_type": "code",
   "execution_count": 16,
   "metadata": {
    "collapsed": false
   },
   "outputs": [
    {
     "name": "stdout",
     "output_type": "stream",
     "text": [
      "Dividend: 4\n",
      "Divisor: \"hello\"\n",
      "Error\n"
     ]
    }
   ],
   "source": [
    "dividend = input(\"Dividend: \")\n",
    "divisor = input(\"Divisor: \")\n",
    "\n",
    "try:\n",
    "    print float(dividend) / float(divisor)\n",
    "except:\n",
    "    print \"Error\"\n",
    "\n"
   ]
  },
  {
   "cell_type": "code",
   "execution_count": 22,
   "metadata": {
    "collapsed": false
   },
   "outputs": [
    {
     "data": {
      "text/plain": [
       "'this is a \\n\"book\"'"
      ]
     },
     "execution_count": 22,
     "metadata": {},
     "output_type": "execute_result"
    }
   ],
   "source": [
    "a = '''this is a \n",
    "\"book\"'''\n",
    "a"
   ]
  },
  {
   "cell_type": "code",
   "execution_count": 31,
   "metadata": {
    "collapsed": false
   },
   "outputs": [
    {
     "name": "stdout",
     "output_type": "stream",
     "text": [
      "drwolh\n"
     ]
    }
   ],
   "source": [
    "s = 'hello world'\n",
    "#print s[1]  #e\n",
    "#print s[-1] #d\n",
    "#print len(s)  ## 11\n",
    "#print s + ' yoyo'  ## hello world yoyo\n",
    "print s[::-2]"
   ]
  },
  {
   "cell_type": "code",
   "execution_count": 12,
   "metadata": {
    "collapsed": false
   },
   "outputs": [
    {
     "name": "stdout",
     "output_type": "stream",
     "text": [
      "\n",
      "\t this is a \t line with format \t\n",
      "\n",
      "\\n\\t this is a \\t line with format \\t\\n\n",
      "'\\n\\t this is a \\t line with format \\t\\n'\n"
     ]
    }
   ],
   "source": [
    "\n",
    "# 帶有 format 的 String \n",
    "raw = '\\n\\t this is a \\t line with format \\t\\n'\n",
    "print raw   \n",
    "\n",
    "# 使用 r 取得raw string\n",
    "raw = r'\\n\\t this is a \\t line with format \\t\\n'\n",
    "print raw   \n",
    "\n",
    "# 使用 repr 取得string 中的表示\n",
    "raw = repr('\\n\\t this is a \\t line with format \\t\\n')\n",
    "print raw \n"
   ]
  },
  {
   "cell_type": "code",
   "execution_count": 38,
   "metadata": {
    "collapsed": false
   },
   "outputs": [
    {
     "name": "stdout",
     "output_type": "stream",
     "text": [
      "palindrom\n"
     ]
    }
   ],
   "source": [
    "a = 'Qoo loves OOP'\n",
    "a.split(), \\\n",
    "a.upper(), \\\n",
    "a.title(),\n",
    "\n",
    "#a.split()[1]\n",
    "\n",
    "a = 'abcdedcba'\n",
    "if  a == a[::-1]:\n",
    "    print \"palindrom\""
   ]
  },
  {
   "cell_type": "code",
   "execution_count": 40,
   "metadata": {
    "collapsed": false
   },
   "outputs": [
    {
     "data": {
      "text/plain": [
       "'adfdafddfsdfjsdjfosdjfodfssdfjsdjfosdfjsdojf'"
      ]
     },
     "execution_count": 40,
     "metadata": {},
     "output_type": "execute_result"
    }
   ],
   "source": [
    "a = \"adfdaf d  df sdfjsdjfosdjfodf   s                  sdfjsdjfosdfj sdojf       \"\n",
    "''.join(a.split())"
   ]
  },
  {
   "cell_type": "code",
   "execution_count": 14,
   "metadata": {
    "collapsed": false
   },
   "outputs": [
    {
     "data": {
      "text/plain": [
       "'Qoo-loves-OOP'"
      ]
     },
     "execution_count": 14,
     "metadata": {},
     "output_type": "execute_result"
    }
   ],
   "source": [
    "import string\n",
    "a = 'Qoo loves OOP'\n",
    "string.join(a.split(), '-') # 'Qoo-loves-OOP'\n",
    "\n",
    "a = 'Qoo loves OOP'\n",
    "'-'.join(a.split())\n"
   ]
  },
  {
   "cell_type": "code",
   "execution_count": 15,
   "metadata": {
    "collapsed": false
   },
   "outputs": [
    {
     "data": {
      "text/plain": [
       "('ell', 'ello', 'hello', 'ello')"
      ]
     },
     "execution_count": 15,
     "metadata": {},
     "output_type": "execute_result"
    }
   ],
   "source": [
    "s = 'hello'\n",
    "s[1:4]   , \\\n",
    "s[1:]    , \\\n",
    "s[:]     , \\\n",
    "s[1:100] , \\\n"
   ]
  },
  {
   "cell_type": "code",
   "execution_count": 16,
   "metadata": {
    "collapsed": false
   },
   "outputs": [
    {
     "data": {
      "text/plain": [
       "('o', 'e', 'he', 'llo')"
      ]
     },
     "execution_count": 16,
     "metadata": {},
     "output_type": "execute_result"
    }
   ],
   "source": [
    "s = 'hello'\n",
    "s[-1] , \\\n",
    "s[-4] , \\\n",
    "s[:-3] , \\\n",
    "s[-3:] , \\\n",
    "\n",
    "('o', 'e', 'he', 'llo')\n"
   ]
  },
  {
   "cell_type": "code",
   "execution_count": 17,
   "metadata": {
    "collapsed": false
   },
   "outputs": [
    {
     "name": "stdout",
     "output_type": "stream",
     "text": [
      "<type 'unicode'> 13\n",
      "Handling ����r��\n",
      "Handling 中文字串\n",
      "Handling 中文字串\n",
      "Handling 中文字串\n"
     ]
    }
   ],
   "source": [
    "# -*- coding: utf-8 -*-\n",
    "unistring = u'Handling 中文字串'\n",
    "print type(unistring), len(unistring)\n",
    "print unistring.encode('big5')\n",
    "print unistring.encode('utf-8')\n",
    "print unistring.encode('utf-8').decode('utf-8')\n",
    "print unicode(unistring.encode('utf-8'), 'utf-8') \n"
   ]
  },
  {
   "cell_type": "code",
   "execution_count": 18,
   "metadata": {
    "collapsed": false
   },
   "outputs": [
    {
     "name": "stdout",
     "output_type": "stream",
     "text": [
      "['asap', 3]\n",
      "['w', 'o', 'r', 'd'] [['list'], ['of', 'lists']]\n",
      "['a', 1]\n"
     ]
    },
    {
     "data": {
      "text/plain": [
       "8"
      ]
     },
     "execution_count": 18,
     "metadata": {},
     "output_type": "execute_result"
    }
   ],
   "source": [
    "#List 可以裝載不同類型元素\n",
    "print ['asap', 3]\n",
    "print list(\"word\"), \n",
    "print [['list'], ['of', 'lists']]\n",
    "print list(('a', 1))\n",
    "\n",
    "a = ['heterogeneous', 3]\n",
    "a[1] + 5 \n"
   ]
  },
  {
   "cell_type": "code",
   "execution_count": 19,
   "metadata": {
    "collapsed": false
   },
   "outputs": [
    {
     "ename": "SyntaxError",
     "evalue": "invalid syntax (<ipython-input-19-55647ebdbf6c>, line 1)",
     "output_type": "error",
     "traceback": [
      "\u001b[1;36m  File \u001b[1;32m\"<ipython-input-19-55647ebdbf6c>\"\u001b[1;36m, line \u001b[1;32m1\u001b[0m\n\u001b[1;33m    a = [5, 6, 7, ‘s’] # a = [5 6 7 ‘s’]\u001b[0m\n\u001b[1;37m                  ^\u001b[0m\n\u001b[1;31mSyntaxError\u001b[0m\u001b[1;31m:\u001b[0m invalid syntax\n"
     ]
    }
   ],
   "source": [
    "a = [5, 6, 7, ‘s’] # a = [5 6 7 ‘s’] \n",
    "print a[0] # 5\n",
    "print a[2:4] # [7, ‘s’] \n",
    "print a[-1] # ‘s’ \n",
    "print a[-2] # 7\n",
    "print a[2:] # [7, ‘s’]\n",
    "print a[::2] # [5, 7]\n",
    "print a[::-1] # [‘s’, 7, 6, 5]\n",
    "print len(a) # 4\n",
    "print [min(a), max(a)] # [5, ‘s’]\n"
   ]
  },
  {
   "cell_type": "code",
   "execution_count": 52,
   "metadata": {
    "collapsed": false
   },
   "outputs": [
    {
     "name": "stdout",
     "output_type": "stream",
     "text": [
      "False\n"
     ]
    }
   ],
   "source": [
    "a = [5, 6, 7, 8]\n",
    "a.pop() # a = [5, 6, 7]\n",
    "a.append(2) # a = [5, 6, 7, 2]\n",
    "a.sort() # a = [2, 5, 6, 7]\n",
    "a.reverse() # a = [7, 6, 5, 2]\n",
    "a = 'helo there this is David, Marry and Lisa'\n",
    "#a.sort()\n",
    "#b = ''.join(a)\n",
    "print 'Mark' in a"
   ]
  },
  {
   "cell_type": "code",
   "execution_count": 53,
   "metadata": {
    "collapsed": false
   },
   "outputs": [
    {
     "data": {
      "text/plain": [
       "[1, 2000, 3]"
      ]
     },
     "execution_count": 53,
     "metadata": {},
     "output_type": "execute_result"
    }
   ],
   "source": [
    "a = [1, 2, 3]\n",
    "b = a\n",
    "a[1] = 2000\n",
    "b\n"
   ]
  },
  {
   "cell_type": "code",
   "execution_count": 55,
   "metadata": {
    "collapsed": false
   },
   "outputs": [
    {
     "name": "stdout",
     "output_type": "stream",
     "text": [
      "[1, 2, 3]\n",
      "[1, 2, 3]\n",
      "[1, 999, 3]\n"
     ]
    }
   ],
   "source": [
    "a = [1, 2, 3]\n",
    "\n",
    "#List \n",
    "b = a[:]\n",
    "print b\n",
    "\n",
    "#List\n",
    "b = list(a)\n",
    "print b\n",
    "\n",
    "#Extent\n",
    "b = [] \n",
    "b.extend(a)\n",
    "b= a\n",
    "a[1] = 999\n",
    "print b\n"
   ]
  },
  {
   "cell_type": "code",
   "execution_count": 23,
   "metadata": {
    "collapsed": false
   },
   "outputs": [
    {
     "name": "stdout",
     "output_type": "stream",
     "text": [
      "[1, 2, 3]\n",
      "[1, 2, 3]\n"
     ]
    }
   ],
   "source": [
    "#Iteration\n",
    "b = []\n",
    "for n in range(len(a)):\n",
    "    b.append(a[n])\n",
    "print b\n",
    "\n",
    "#Foreach\n",
    "b = [ e for e in a ]\n",
    "b\n",
    "print b\n",
    "\n"
   ]
  },
  {
   "cell_type": "code",
   "execution_count": 24,
   "metadata": {
    "collapsed": false
   },
   "outputs": [
    {
     "name": "stdout",
     "output_type": "stream",
     "text": [
      "[1, 2, 3]\n"
     ]
    }
   ],
   "source": [
    "a = [1, 2, 3]\n",
    "import copy\n",
    "aa = copy.deepcopy(a) # Deep Copy\n",
    "a[1] = 2000\n",
    "print aa\n"
   ]
  },
  {
   "cell_type": "code",
   "execution_count": 57,
   "metadata": {
    "collapsed": false
   },
   "outputs": [
    {
     "name": "stdout",
     "output_type": "stream",
     "text": [
      "[1, 4, 9, 16]\n",
      "[1, 4, 9, 16]\n"
     ]
    }
   ],
   "source": [
    "nums = [1, 2, 3, 4]\n",
    "squares = [ n * n for n in nums ]   \n",
    "#print squares\n",
    "\n",
    "a = []\n",
    "for n in nums:\n",
    "    a.append(n*n)\n",
    "#print a\n"
   ]
  },
  {
   "cell_type": "code",
   "execution_count": 61,
   "metadata": {
    "collapsed": false
   },
   "outputs": [
    {
     "name": "stdout",
     "output_type": "stream",
     "text": [
      "[2, 1]\n",
      "[2, 1]\n",
      "['APPLE', 'BANNANA']\n",
      "['APPLE', 'BANNANA']\n"
     ]
    }
   ],
   "source": [
    "## 篩選 values <= 2\n",
    "nums = [2, 8, 1, 6]\n",
    "small = [ n for n in nums if n <= 2 ]  ## [2, 1]\n",
    "print small\n",
    "\n",
    "a = []\n",
    "for n in nums:\n",
    "    if n <=2:\n",
    "        a.append(n)\n",
    "print a\n",
    "\n",
    "\n",
    "## 篩選 包含 'a' 的 fruits, 並轉換為大寫\n",
    "fruits = ['apple', 'cherry', 'bannana', 'lemon']\n",
    "afruits = [ s.upper() for s in fruits if 'a' in s ]\n",
    "print afruits\n",
    "\n",
    "a= []\n",
    "for s in fruits:\n",
    "    if 'a' in s:\n",
    "        a.append(s.upper())\n",
    "print a\n",
    "\n"
   ]
  },
  {
   "cell_type": "code",
   "execution_count": 62,
   "metadata": {
    "collapsed": false
   },
   "outputs": [
    {
     "name": "stdout",
     "output_type": "stream",
     "text": [
      "Add Contact: \"Marry\"\n",
      "You have 1 contacts\n",
      "Add Contact: \"Lisa\"\n",
      "You have 2 contacts\n",
      "Add Contact: \"Alice\"\n",
      "You have 3 contacts\n",
      "Add Contact: \"Done\"\n",
      "Your Contacts: ['Marry', 'Lisa', 'Alice']\n"
     ]
    }
   ],
   "source": [
    "contact_list = []\n",
    "while True:\n",
    "    contact = input(\"Add Contact: \")\n",
    "    if contact == 'Done':\n",
    "        break\n",
    "    else:\n",
    "        contact_list.append(contact)\n",
    "        print \"You have %d contacts\" % (len(contact_list))\n",
    "print \"Your Contacts: %s\"%(contact_list)\n"
   ]
  },
  {
   "cell_type": "code",
   "execution_count": 63,
   "metadata": {
    "collapsed": false
   },
   "outputs": [
    {
     "name": "stdout",
     "output_type": "stream",
     "text": [
      "9 was not in the list\n",
      "9 was not in the list\n",
      "9 was not in the list\n",
      "9 was not in the list\n",
      "9 was not in the list\n",
      "9 was not in the list\n",
      "9 was not in the list\n",
      "8 found\n",
      "9 found!\n"
     ]
    }
   ],
   "source": [
    "#if - else\n",
    "a = 9\n",
    "b = 8\n",
    "for i in range(1,10):\n",
    "    if i == a:\n",
    "        print(str(a) + ' found!')\n",
    "        break\n",
    "    elif i == b:\n",
    "        print str(b) + ' found'\n",
    "    else:\n",
    "        print(str(a) + ' was not in the list')\n"
   ]
  },
  {
   "cell_type": "code",
   "execution_count": 30,
   "metadata": {
    "collapsed": false
   },
   "outputs": [
    {
     "name": "stdout",
     "output_type": "stream",
     "text": [
      "5050\n"
     ]
    }
   ],
   "source": [
    "i =0\n",
    "sum = 0 \n",
    "while(i < 101):\n",
    "    sum += i\n",
    "    i +=1\n",
    "print sum\n"
   ]
  },
  {
   "cell_type": "code",
   "execution_count": 31,
   "metadata": {
    "collapsed": false
   },
   "outputs": [
    {
     "name": "stdout",
     "output_type": "stream",
     "text": [
      "5\n"
     ]
    }
   ],
   "source": [
    "def addNum(a, b):#Define Function\n",
    "    return a+b #Return function \n",
    "\n",
    "print addNum(1,4)\n"
   ]
  },
  {
   "cell_type": "code",
   "execution_count": 66,
   "metadata": {
    "collapsed": false
   },
   "outputs": [
    {
     "data": {
      "text/plain": [
       "{1, 2, 3, 4}"
      ]
     },
     "execution_count": 66,
     "metadata": {},
     "output_type": "execute_result"
    }
   ],
   "source": [
    "def myunion(x, *args):\n",
    "    u = set(x)\n",
    "    for y in args:\n",
    "        u = u.union(set(y))\n",
    "    return u\n",
    "\n",
    "myunion([1])\n",
    "myunion([1], [1, 2, 4], [3, 4])\n"
   ]
  },
  {
   "cell_type": "code",
   "execution_count": 67,
   "metadata": {
    "collapsed": false
   },
   "outputs": [
    {
     "name": "stdout",
     "output_type": "stream",
     "text": [
      "set(['the', 'stop'])\n"
     ]
    }
   ],
   "source": [
    "#unknown named arguments\n",
    "def my_key_union(x, **kwargs):\n",
    "    union = set(x)\n",
    "    for key, value in kwargs.items():\n",
    "        if value:\n",
    "            union.add(key)\n",
    "    return union\n",
    "\n",
    "print my_key_union(['the'], stop=True, halt=False)\n",
    "\n"
   ]
  },
  {
   "cell_type": "code",
   "execution_count": 35,
   "metadata": {
    "collapsed": false
   },
   "outputs": [
    {
     "data": {
      "text/plain": [
       "(set(), {1, 2}, {1, 2}, {1, 2}, {0, 1, 2, 3}, {1, 2, 3, 4})"
      ]
     },
     "execution_count": 35,
     "metadata": {},
     "output_type": "execute_result"
    }
   ],
   "source": [
    "set(), set([1, 2]), set([2, 1]),\\\n",
    "set((2, 1)), set(range(0,5)) - set(range(4,10)),\\\n",
    "set([1, 2]) | set([3, 4])\n"
   ]
  },
  {
   "cell_type": "code",
   "execution_count": 36,
   "metadata": {
    "collapsed": false
   },
   "outputs": [
    {
     "name": "stdout",
     "output_type": "stream",
     "text": [
      "The result is 0.000000\n"
     ]
    }
   ],
   "source": [
    "import math, sys # Importing modules.\n",
    "\n",
    "def formatresult(res): # Define function. Remember \":\"\n",
    "    \"\"\"This is the documentation for a function.\"\"\"\n",
    "    return \"The result is %f\" % res # Percentage for formating\n",
    "\n",
    "if len(sys.argv) < 3: # Conditionals should be indended\n",
    "    print(\"Too few input argument\")\n",
    "elif len(sys.argv) > 10: # Not 'elsif' or 'elseif'\n",
    "    print(\"Too many input argument\")\n",
    "else:\n",
    "    res = 0\n",
    "    for n in range(1, len(sys.argv)): \n",
    "        try: res += float(sys.argv[n]) \n",
    "        except: pass # One-liner\n",
    "    print(formatresult(res))\n"
   ]
  },
  {
   "cell_type": "code",
   "execution_count": 37,
   "metadata": {
    "collapsed": false
   },
   "outputs": [
    {
     "name": "stdout",
     "output_type": "stream",
     "text": [
      "4.0\n"
     ]
    }
   ],
   "source": [
    "import math\n",
    "a = math.ceil(3.6)\n",
    "print a \n"
   ]
  },
  {
   "cell_type": "code",
   "execution_count": 38,
   "metadata": {
    "collapsed": false
   },
   "outputs": [
    {
     "name": "stdout",
     "output_type": "stream",
     "text": [
      "<module 'math' (built-in)>\n",
      "['-c', '-f', '/home/ubuntu/.ipython/profile_default/security/kernel-9895557a-a975-4be7-96ad-6413903059dd.json', \"--IPKernelApp.parent_appname='ipython-notebook'\", '--profile-dir', '/home/ubuntu/.ipython/profile_default', '--parent=1']\n",
      "[1, 2, 3, 4, 5, 6]\n"
     ]
    }
   ],
   "source": [
    "import math #Importing Modules\n",
    "print math #Print Content\n",
    "\n",
    "import sys #Importing Modules\n",
    "print(sys.argv) #Print Argument\n",
    "\n",
    "print range(1,len(sys.argv))\n"
   ]
  },
  {
   "cell_type": "code",
   "execution_count": 86,
   "metadata": {
    "collapsed": false
   },
   "outputs": [
    {
     "name": "stdout",
     "output_type": "stream",
     "text": [
      "<html><body>adfdafdfd</body></html>\n"
     ]
    }
   ],
   "source": [
    "a = \"\"\"\n",
    "<html>\n",
    "\\n\n",
    "\\n\n",
    "<body>\n",
    "adfdafdfd\n",
    "</body>\n",
    "</html>\n",
    "\"\"\"\n",
    "print ''.join(a.split())"
   ]
  },
  {
   "cell_type": "code",
   "execution_count": 78,
   "metadata": {
    "collapsed": false
   },
   "outputs": [
    {
     "ename": "KeyboardInterrupt",
     "evalue": "",
     "output_type": "error",
     "traceback": [
      "\u001b[1;31m---------------------------------------------------------------------------\u001b[0m\n\u001b[1;31mKeyboardInterrupt\u001b[0m                         Traceback (most recent call last)",
      "\u001b[1;32m<ipython-input-78-e48d83646b4c>\u001b[0m in \u001b[0;36m<module>\u001b[1;34m()\u001b[0m\n\u001b[0;32m     19\u001b[0m \u001b[1;33m\u001b[0m\u001b[0m\n\u001b[0;32m     20\u001b[0m \u001b[1;32mif\u001b[0m \u001b[0m__name__\u001b[0m \u001b[1;33m==\u001b[0m \u001b[1;34m\"__main__\"\u001b[0m\u001b[1;33m:\u001b[0m\u001b[1;33m\u001b[0m\u001b[0m\n\u001b[1;32m---> 21\u001b[1;33m     \u001b[0mmain\u001b[0m\u001b[1;33m(\u001b[0m\u001b[1;33m)\u001b[0m\u001b[1;33m\u001b[0m\u001b[0m\n\u001b[0m",
      "\u001b[1;32m<ipython-input-78-e48d83646b4c>\u001b[0m in \u001b[0;36mmain\u001b[1;34m()\u001b[0m\n\u001b[0;32m     11\u001b[0m \u001b[1;32mdef\u001b[0m \u001b[0mmain\u001b[0m\u001b[1;33m(\u001b[0m\u001b[1;33m)\u001b[0m\u001b[1;33m:\u001b[0m\u001b[1;33m\u001b[0m\u001b[0m\n\u001b[0;32m     12\u001b[0m     \u001b[1;32mwhile\u001b[0m \u001b[0mTrue\u001b[0m\u001b[1;33m:\u001b[0m\u001b[1;33m\u001b[0m\u001b[0m\n\u001b[1;32m---> 13\u001b[1;33m         \u001b[0mcontact\u001b[0m \u001b[1;33m=\u001b[0m \u001b[0minput\u001b[0m\u001b[1;33m(\u001b[0m\u001b[1;34m\"Add Contact: \"\u001b[0m\u001b[1;33m)\u001b[0m\u001b[1;33m\u001b[0m\u001b[0m\n\u001b[0m\u001b[0;32m     14\u001b[0m         \u001b[1;32mif\u001b[0m \u001b[0mcontact\u001b[0m \u001b[1;33m==\u001b[0m \u001b[1;34m'Done'\u001b[0m\u001b[1;33m:\u001b[0m\u001b[1;33m\u001b[0m\u001b[0m\n\u001b[0;32m     15\u001b[0m              \u001b[1;32mbreak\u001b[0m\u001b[1;33m\u001b[0m\u001b[0m\n",
      "\u001b[1;32m/usr/local/lib/python2.7/dist-packages/IPython/kernel/zmq/ipkernel.pyc\u001b[0m in \u001b[0;36m<lambda>\u001b[1;34m(prompt)\u001b[0m\n\u001b[0;32m    362\u001b[0m         \u001b[1;32mif\u001b[0m \u001b[0mcontent\u001b[0m\u001b[1;33m.\u001b[0m\u001b[0mget\u001b[0m\u001b[1;33m(\u001b[0m\u001b[1;34m'allow_stdin'\u001b[0m\u001b[1;33m,\u001b[0m \u001b[0mFalse\u001b[0m\u001b[1;33m)\u001b[0m\u001b[1;33m:\u001b[0m\u001b[1;33m\u001b[0m\u001b[0m\n\u001b[0;32m    363\u001b[0m             \u001b[0mraw_input\u001b[0m \u001b[1;33m=\u001b[0m \u001b[1;32mlambda\u001b[0m \u001b[0mprompt\u001b[0m\u001b[1;33m=\u001b[0m\u001b[1;34m''\u001b[0m\u001b[1;33m:\u001b[0m \u001b[0mself\u001b[0m\u001b[1;33m.\u001b[0m\u001b[0m_raw_input\u001b[0m\u001b[1;33m(\u001b[0m\u001b[0mprompt\u001b[0m\u001b[1;33m,\u001b[0m \u001b[0mident\u001b[0m\u001b[1;33m,\u001b[0m \u001b[0mparent\u001b[0m\u001b[1;33m)\u001b[0m\u001b[1;33m\u001b[0m\u001b[0m\n\u001b[1;32m--> 364\u001b[1;33m             \u001b[0minput\u001b[0m \u001b[1;33m=\u001b[0m \u001b[1;32mlambda\u001b[0m \u001b[0mprompt\u001b[0m\u001b[1;33m=\u001b[0m\u001b[1;34m''\u001b[0m\u001b[1;33m:\u001b[0m \u001b[0meval\u001b[0m\u001b[1;33m(\u001b[0m\u001b[0mraw_input\u001b[0m\u001b[1;33m(\u001b[0m\u001b[0mprompt\u001b[0m\u001b[1;33m)\u001b[0m\u001b[1;33m)\u001b[0m\u001b[1;33m\u001b[0m\u001b[0m\n\u001b[0m\u001b[0;32m    365\u001b[0m         \u001b[1;32melse\u001b[0m\u001b[1;33m:\u001b[0m\u001b[1;33m\u001b[0m\u001b[0m\n\u001b[0;32m    366\u001b[0m             \u001b[0mraw_input\u001b[0m \u001b[1;33m=\u001b[0m \u001b[0minput\u001b[0m \u001b[1;33m=\u001b[0m \u001b[1;32mlambda\u001b[0m \u001b[0mprompt\u001b[0m\u001b[1;33m=\u001b[0m\u001b[1;34m''\u001b[0m \u001b[1;33m:\u001b[0m \u001b[0mself\u001b[0m\u001b[1;33m.\u001b[0m\u001b[0m_no_raw_input\u001b[0m\u001b[1;33m(\u001b[0m\u001b[1;33m)\u001b[0m\u001b[1;33m\u001b[0m\u001b[0m\n",
      "\u001b[1;32m/usr/local/lib/python2.7/dist-packages/IPython/kernel/zmq/ipkernel.pyc\u001b[0m in \u001b[0;36m<lambda>\u001b[1;34m(prompt)\u001b[0m\n\u001b[0;32m    361\u001b[0m         \u001b[1;31m# raw_input in the user namespace.\u001b[0m\u001b[1;33m\u001b[0m\u001b[1;33m\u001b[0m\u001b[0m\n\u001b[0;32m    362\u001b[0m         \u001b[1;32mif\u001b[0m \u001b[0mcontent\u001b[0m\u001b[1;33m.\u001b[0m\u001b[0mget\u001b[0m\u001b[1;33m(\u001b[0m\u001b[1;34m'allow_stdin'\u001b[0m\u001b[1;33m,\u001b[0m \u001b[0mFalse\u001b[0m\u001b[1;33m)\u001b[0m\u001b[1;33m:\u001b[0m\u001b[1;33m\u001b[0m\u001b[0m\n\u001b[1;32m--> 363\u001b[1;33m             \u001b[0mraw_input\u001b[0m \u001b[1;33m=\u001b[0m \u001b[1;32mlambda\u001b[0m \u001b[0mprompt\u001b[0m\u001b[1;33m=\u001b[0m\u001b[1;34m''\u001b[0m\u001b[1;33m:\u001b[0m \u001b[0mself\u001b[0m\u001b[1;33m.\u001b[0m\u001b[0m_raw_input\u001b[0m\u001b[1;33m(\u001b[0m\u001b[0mprompt\u001b[0m\u001b[1;33m,\u001b[0m \u001b[0mident\u001b[0m\u001b[1;33m,\u001b[0m \u001b[0mparent\u001b[0m\u001b[1;33m)\u001b[0m\u001b[1;33m\u001b[0m\u001b[0m\n\u001b[0m\u001b[0;32m    364\u001b[0m             \u001b[0minput\u001b[0m \u001b[1;33m=\u001b[0m \u001b[1;32mlambda\u001b[0m \u001b[0mprompt\u001b[0m\u001b[1;33m=\u001b[0m\u001b[1;34m''\u001b[0m\u001b[1;33m:\u001b[0m \u001b[0meval\u001b[0m\u001b[1;33m(\u001b[0m\u001b[0mraw_input\u001b[0m\u001b[1;33m(\u001b[0m\u001b[0mprompt\u001b[0m\u001b[1;33m)\u001b[0m\u001b[1;33m)\u001b[0m\u001b[1;33m\u001b[0m\u001b[0m\n\u001b[0;32m    365\u001b[0m         \u001b[1;32melse\u001b[0m\u001b[1;33m:\u001b[0m\u001b[1;33m\u001b[0m\u001b[0m\n",
      "\u001b[1;32m/usr/local/lib/python2.7/dist-packages/IPython/kernel/zmq/ipkernel.pyc\u001b[0m in \u001b[0;36m_raw_input\u001b[1;34m(self, prompt, ident, parent)\u001b[0m\n\u001b[0;32m    763\u001b[0m             \u001b[1;32mexcept\u001b[0m \u001b[0mKeyboardInterrupt\u001b[0m\u001b[1;33m:\u001b[0m\u001b[1;33m\u001b[0m\u001b[0m\n\u001b[0;32m    764\u001b[0m                 \u001b[1;31m# re-raise KeyboardInterrupt, to truncate traceback\u001b[0m\u001b[1;33m\u001b[0m\u001b[1;33m\u001b[0m\u001b[0m\n\u001b[1;32m--> 765\u001b[1;33m                 \u001b[1;32mraise\u001b[0m \u001b[0mKeyboardInterrupt\u001b[0m\u001b[1;33m\u001b[0m\u001b[0m\n\u001b[0m\u001b[0;32m    766\u001b[0m             \u001b[1;32melse\u001b[0m\u001b[1;33m:\u001b[0m\u001b[1;33m\u001b[0m\u001b[0m\n\u001b[0;32m    767\u001b[0m                 \u001b[1;32mbreak\u001b[0m\u001b[1;33m\u001b[0m\u001b[0m\n",
      "\u001b[1;31mKeyboardInterrupt\u001b[0m: "
     ]
    }
   ],
   "source": [
    "\n",
    "def add_contact(name):\n",
    "    contact_list.append(name)\n",
    "    print \"You have %d contacts\" % (len(contact_list))\n",
    "\n",
    "def get_contact():\t\n",
    "    print \"Your Contacts: %s\"%(contact_list)\n",
    "\n",
    "contact_list = []\n",
    "\n",
    "def main():    \n",
    "    while True:\n",
    "        contact = input(\"Add Contact: \")\n",
    "        if contact == 'Done':\n",
    "   \t     break\n",
    "        else:\n",
    "   \t     add_contact(contact)\n",
    "    get_contact()\n",
    "\n",
    "if __name__ == \"__main__\":\n",
    "    main()\n"
   ]
  },
  {
   "cell_type": "code",
   "execution_count": 96,
   "metadata": {
    "collapsed": false
   },
   "outputs": [
    {
     "name": "stdout",
     "output_type": "stream",
     "text": [
      "insert into table(a, c, b) values(100, 0.98, yes)\n"
     ]
    }
   ],
   "source": [
    "#declare dictionary \n",
    "dic = {'a':str(100), 'b':\"yes\", 'c':str(0.98)} \n",
    "#print dic \n",
    "\n",
    "#get keys in dictionary \n",
    "#print dic.keys() \n",
    "\n",
    "#get values in dictionary \n",
    "#print dic.values() \n",
    "\n",
    "#get value of given key \n",
    "#print dic['a'] \n",
    "\n",
    "#get value of given key \n",
    "#print dic.get('a')\n",
    "\n",
    "columns = ', '.join(dic.keys())\n",
    "values = ', '.join(dic.values())\n",
    "\n",
    "#? ? ? \n",
    "\n",
    "sql = 'insert into table({}) values({})'.format(columns, values)\n",
    "print sql"
   ]
  },
  {
   "cell_type": "code",
   "execution_count": 97,
   "metadata": {
    "collapsed": false
   },
   "outputs": [
    {
     "name": "stdout",
     "output_type": "stream",
     "text": [
      "{'a': '100', 'c': '0.98', 'b': 'yes', 'd': 'new'}\n",
      "{'a': True, 'c': '0.98', 'b': 'yes', 'e': 123, 'd': 'new'}\n",
      "a True\n",
      "c 0.98\n",
      "b yes\n",
      "e 123\n",
      "d new\n"
     ]
    }
   ],
   "source": [
    "#add entry into dictionary \n",
    "dic['d'] = 'new' \n",
    "print dic \n",
    "\n",
    "#add entry into dictionary \n",
    "dic.update({'e':123, 'a':True}) \n",
    "print dic \n",
    "\n",
    "# iter the dictionary \n",
    "for rec in dic: \n",
    "    print rec, dic[rec]\n",
    "\n"
   ]
  },
  {
   "cell_type": "code",
   "execution_count": 100,
   "metadata": {
    "collapsed": false
   },
   "outputs": [
    {
     "data": {
      "text/plain": [
       "1"
      ]
     },
     "execution_count": 100,
     "metadata": {},
     "output_type": "execute_result"
    }
   ],
   "source": [
    "def func(x):\n",
    "    return {\n",
    "        'apple': 1,\n",
    "        'bannana': 2,\n",
    "        }.get(x, 0) \n",
    "func('apple')"
   ]
  },
  {
   "cell_type": "code",
   "execution_count": 103,
   "metadata": {
    "collapsed": false
   },
   "outputs": [
    {
     "data": {
      "text/plain": [
       "['__add__',\n",
       " '__class__',\n",
       " '__contains__',\n",
       " '__delattr__',\n",
       " '__doc__',\n",
       " '__eq__',\n",
       " '__format__',\n",
       " '__ge__',\n",
       " '__getattribute__',\n",
       " '__getitem__',\n",
       " '__getnewargs__',\n",
       " '__getslice__',\n",
       " '__gt__',\n",
       " '__hash__',\n",
       " '__init__',\n",
       " '__iter__',\n",
       " '__le__',\n",
       " '__len__',\n",
       " '__lt__',\n",
       " '__mul__',\n",
       " '__ne__',\n",
       " '__new__',\n",
       " '__reduce__',\n",
       " '__reduce_ex__',\n",
       " '__repr__',\n",
       " '__rmul__',\n",
       " '__setattr__',\n",
       " '__sizeof__',\n",
       " '__str__',\n",
       " '__subclasshook__',\n",
       " 'count',\n",
       " 'index']"
      ]
     },
     "execution_count": 103,
     "metadata": {},
     "output_type": "execute_result"
    }
   ],
   "source": [
    "dir(tuple)"
   ]
  },
  {
   "cell_type": "code",
   "execution_count": 113,
   "metadata": {
    "collapsed": false
   },
   "outputs": [
    {
     "ename": "SyntaxError",
     "evalue": "invalid syntax (<ipython-input-113-9345a1c1512b>, line 13)",
     "output_type": "error",
     "traceback": [
      "\u001b[1;36m  File \u001b[1;32m\"<ipython-input-113-9345a1c1512b>\"\u001b[1;36m, line \u001b[1;32m13\u001b[0m\n\u001b[1;33m    print *x\u001b[0m\n\u001b[1;37m          ^\u001b[0m\n\u001b[1;31mSyntaxError\u001b[0m\u001b[1;31m:\u001b[0m invalid syntax\n"
     ]
    }
   ],
   "source": [
    "a, b = 1,2\n",
    "#print a,b\n",
    "a, b = b,a\n",
    "#print a,b\n",
    "a = {'a':1}\n",
    "del a['a']\n",
    "print a\n",
    "\n",
    "\n",
    "def func():\n",
    "    return 1,2,3\n",
    "x = func()\n",
    "print *x"
   ]
  },
  {
   "cell_type": "code",
   "execution_count": 42,
   "metadata": {
    "collapsed": false
   },
   "outputs": [
    {
     "name": "stdout",
     "output_type": "stream",
     "text": [
      "0 a\n",
      "1 b\n",
      "2 c\n",
      "0 a\n",
      "1 b\n",
      "2 c\n",
      "0 a\n",
      "1 b\n",
      "2 c\n"
     ]
    }
   ],
   "source": [
    "li = list('abc')\n",
    "cnt = 0\n",
    "for item in li:\n",
    "    print cnt, item\n",
    "    cnt +=1\n",
    "\n",
    "li = list('abc')\n",
    "for idx, item in enumerate(li):\n",
    "    print idx, item\n",
    "\n",
    "li = list('abc')\n",
    "for item in enumerate(li):\n",
    "    print \"{} {}\".format(*item)\n"
   ]
  },
  {
   "cell_type": "code",
   "execution_count": 43,
   "metadata": {
    "collapsed": false
   },
   "outputs": [],
   "source": [
    "class Person():\n",
    "    count = 0 # Static/class variable\n",
    "    def __init__(self, name, city):\n",
    "        self.name = name # Variable for the instance\n",
    "        self.city = city # Variable for the instance\n",
    "        Person.count += 1\n",
    "    def number_of_persons(self):\n",
    "        return Person.count\n",
    "\n"
   ]
  },
  {
   "cell_type": "code",
   "execution_count": 44,
   "metadata": {
    "collapsed": false
   },
   "outputs": [],
   "source": [
    "class Person():\n",
    "    count = 0 # Static/class variable\n",
    "    def __init__(self, name, city):\n",
    "        self.name = name # Variable for the instance\n",
    "        self.city = city # Variable for the instance\n",
    "        Person.count += 1\n",
    "    def number_of_persons(self):\n",
    "        return Person.count\n",
    "\n"
   ]
  },
  {
   "cell_type": "code",
   "execution_count": 45,
   "metadata": {
    "collapsed": false
   },
   "outputs": [
    {
     "name": "stdout",
     "output_type": "stream",
     "text": [
      "David\n",
      "Taipei\n"
     ]
    }
   ],
   "source": [
    "class Person():\n",
    "    count = 0 \n",
    "    def __init__(self, **kwargs):\n",
    "        self.name = kwargs.get('name', 'anonymous')\n",
    "        self.city = kwargs.get('city', 'Taipei')\n",
    "        Person.count += 1\n",
    "    def number_of_persons(self):\n",
    "        return Person.count\n",
    "\n",
    "first = Person(name='David')\n",
    "print first.name # David\n",
    "print first.city # Taipei\n"
   ]
  },
  {
   "cell_type": "code",
   "execution_count": 46,
   "metadata": {
    "collapsed": false
   },
   "outputs": [
    {
     "name": "stdout",
     "output_type": "stream",
     "text": [
      "constructor\n",
      "8\n"
     ]
    }
   ],
   "source": [
    "class MyInteger():\n",
    "    def __init__(self, integer):\n",
    "        print \"constructor\"\n",
    "        self.integer = integer\n",
    "    def __add__(self, integer): # Overloaded '+' operator\n",
    "        if self.integer == 2 and integer == 2:\n",
    "            return 5\n",
    "        else:\n",
    "            return self.integer + integer\n",
    "\n",
    "a = MyInteger(3)\n",
    "print a+5\n"
   ]
  },
  {
   "cell_type": "code",
   "execution_count": 47,
   "metadata": {
    "collapsed": false
   },
   "outputs": [
    {
     "name": "stdout",
     "output_type": "stream",
     "text": [
      "False\n",
      "yellow\n",
      "<__main__.rent_bike instance at 0x90be60c>\n"
     ]
    }
   ],
   "source": [
    "#Derived Classes\n",
    "class Vehicle():\n",
    "    def my_own(self): return True\n",
    "    \n",
    "class Bicycle(Vehicle):\n",
    "    def __init__(self, color): self.color = color\n",
    "    def has_wheels(self): return True\n",
    "\n",
    "class rent_bike(Bicycle):\n",
    "    def my_own(self): return False\n",
    "Ubike = rent_bike('yellow')\n",
    "print Ubike.my_own()\n",
    "print Ubike.color\n",
    "print Ubike\n",
    "\n",
    "\n"
   ]
  },
  {
   "cell_type": "code",
   "execution_count": 48,
   "metadata": {
    "collapsed": false
   },
   "outputs": [
    {
     "name": "stdout",
     "output_type": "stream",
     "text": [
      "rent_bike is yellow\n"
     ]
    }
   ],
   "source": [
    "class Vehicle():\n",
    "    def my_own(self): return True\n",
    "    \n",
    "class Bicycle(Vehicle):\n",
    "    def __init__(self, color): self.color = color\n",
    "    def has_wheels(self): return True\n",
    "    def __str__(self): return \"%s is %s\"%(self.__class__.__name__,self.color)\n",
    "\n",
    "class rent_bike(Bicycle):\n",
    "    def my_own(self): return False\n",
    "Ubike = rent_bike('yellow')\n",
    "print Ubike\n"
   ]
  },
  {
   "cell_type": "code",
   "execution_count": 114,
   "metadata": {
    "collapsed": false
   },
   "outputs": [],
   "source": [
    "#Writing Hello World Into test.txt\n",
    "fid = open('test.txt', 'w')\n",
    "fid.write('Hello\\nWorld')\n",
    "fid.close()\n"
   ]
  },
  {
   "cell_type": "code",
   "execution_count": 115,
   "metadata": {
    "collapsed": false
   },
   "outputs": [
    {
     "name": "stdout",
     "output_type": "stream",
     "text": [
      "Line: Hello\n",
      "Line: World\n"
     ]
    }
   ],
   "source": [
    "#Load Hello World\n",
    "fid = open('test.txt', 'r')\n",
    "for line in fid: # Using file identifier as iterator\n",
    "    print(\"Line: \" + line.strip())\n",
    "fid.close()\n"
   ]
  },
  {
   "cell_type": "code",
   "execution_count": 51,
   "metadata": {
    "collapsed": false
   },
   "outputs": [
    {
     "name": "stdout",
     "output_type": "stream",
     "text": [
      "line Hello\n",
      "World\n"
     ]
    }
   ],
   "source": [
    "fid = open('test.txt', 'r')\n",
    "s = fid.read() # Read the entire file\n",
    "fid.close()\n",
    "print \"line\",s\n"
   ]
  },
  {
   "cell_type": "code",
   "execution_count": 53,
   "metadata": {
    "collapsed": false
   },
   "outputs": [
    {
     "name": "stdout",
     "output_type": "stream",
     "text": [
      "2\n",
      "2\n"
     ]
    }
   ],
   "source": [
    "#Line Counting\n",
    "fid = open('test.txt')\n",
    "k = 0\n",
    "for line in fid:\n",
    "    k = k + 1\n",
    "print(k)\n",
    "fid.close()\n",
    "\n",
    "#或簡寫為:\n",
    "print len([ line for line in open('test.txt')])\n",
    "\n"
   ]
  },
  {
   "cell_type": "code",
   "execution_count": null,
   "metadata": {
    "collapsed": false
   },
   "outputs": [
    {
     "name": "stdout",
     "output_type": "stream",
     "text": [
      "\n",
      "LUCETTA\tO, they love least that let men know their love.\n",
      "\n",
      "JULIA\tI would I knew his mind.\n"
     ]
    }
   ],
   "source": [
    "f = open(\"comedies.txt\", 'r')\n",
    "cnt = 0\n",
    "#for line in f.readlines():\n",
    "    #print line.strip()\n",
    "f.close()\n"
   ]
  },
  {
   "cell_type": "code",
   "execution_count": 116,
   "metadata": {
    "collapsed": false
   },
   "outputs": [
    {
     "name": "stdout",
     "output_type": "stream",
     "text": [
      "[]\n",
      "[]\n",
      "[\"ALL'S\", 'WELL', 'THAT', 'ENDS', 'WELL']\n",
      "[]\n"
     ]
    }
   ],
   "source": [
    "f = open(\"comedies.txt\", 'r')\n",
    "#cnt = 0\n",
    "for line in f.readlines()[1:5]:\n",
    "    ele = line.strip().split()\n",
    "    print ele\n",
    "f.close()\n"
   ]
  },
  {
   "cell_type": "code",
   "execution_count": null,
   "metadata": {
    "collapsed": false
   },
   "outputs": [],
   "source": [
    "f = open(\"comedies.txt\", 'r')\n",
    "cnt = 0\n",
    "dict = {}\n",
    "for line in f.readlines():\n",
    "    ele = line.strip().split()\n",
    "    for word in ele:\n",
    "        if word in dict:\n",
    "\t    dict[word] = dict[word] + 1\n",
    "\telse:\n",
    "\t    dict[word] = 1\n",
    "f.close()\n",
    "print dict\n"
   ]
  },
  {
   "cell_type": "code",
   "execution_count": 1,
   "metadata": {
    "collapsed": false
   },
   "outputs": [
    {
     "name": "stdout",
     "output_type": "stream",
     "text": [
      "<module 'requests' from 'C:\\Users\\BIG DATA\\Anaconda2\\lib\\site-packages\\requests\\__init__.pyc'>\n"
     ]
    }
   ],
   "source": [
    "import requests\n",
    "print requests"
   ]
  },
  {
   "cell_type": "code",
   "execution_count": null,
   "metadata": {
    "collapsed": true
   },
   "outputs": [],
   "source": []
  }
 ],
 "metadata": {
  "kernelspec": {
   "display_name": "Python 2",
   "language": "python",
   "name": "python2"
  },
  "language_info": {
   "codemirror_mode": {
    "name": "ipython",
    "version": 2
   },
   "file_extension": ".py",
   "mimetype": "text/x-python",
   "name": "python",
   "nbconvert_exporter": "python",
   "pygments_lexer": "ipython2",
   "version": "2.7.11"
  }
 },
 "nbformat": 4,
 "nbformat_minor": 0
}
